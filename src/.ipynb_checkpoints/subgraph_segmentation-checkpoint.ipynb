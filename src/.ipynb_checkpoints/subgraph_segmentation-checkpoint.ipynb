{
 "cells": [
  {
   "cell_type": "code",
   "execution_count": 3,
   "metadata": {
    "ExecuteTime": {
     "end_time": "2022-04-25T12:42:27.489051Z",
     "start_time": "2022-04-25T12:42:26.194508Z"
    }
   },
   "outputs": [],
   "source": [
    "import os\n",
    "import json\n",
    "import time\n",
    "import config\n",
    "import community\n",
    "import networkx as nx\n",
    "from networkx.utils import is_string_like"
   ]
  },
  {
   "cell_type": "code",
   "execution_count": 4,
   "metadata": {
    "ExecuteTime": {
     "end_time": "2022-04-25T12:42:28.976737Z",
     "start_time": "2022-04-25T12:42:28.956068Z"
    }
   },
   "outputs": [],
   "source": [
    "def generate_gml(G):\n",
    "    # gml图生成器直接将networkx源代码进行修改\n",
    "    # recursively make dicts into gml brackets\n",
    "    def listify(d,indent,indentlevel):\n",
    "        result='[ \\n'\n",
    "        for k,v in d.items():\n",
    "            if type(v)==dict:\n",
    "                v=listify(v,indent,indentlevel+1)\n",
    "            result += (indentlevel+1)*indent +                 string_item(k,v,indentlevel*indent)+'\\n'\n",
    "        return result+indentlevel*indent+\"]\"\n",
    "\n",
    "    def string_item(k,v,indent):\n",
    "        # try to make a string of the data\n",
    "        if type(v)==dict: \n",
    "            v=listify(v,indent,2)\n",
    "        elif is_string_like(v):\n",
    "            v='\"%s\"'%v\n",
    "        elif type(v)==bool:\n",
    "            v=int(v)\n",
    "        return \"%s %s\"%(k,v)\n",
    "\n",
    "    # check for attributes or assign empty dict\n",
    "    if hasattr(G,'graph_attr'):\n",
    "        graph_attr=G.graph_attr\n",
    "    else:\n",
    "        graph_attr={}\n",
    "    if hasattr(G,'node_attr'):\n",
    "        node_attr=G.node_attr\n",
    "    else:\n",
    "        node_attr={}\n",
    "\n",
    "    indent=2*' '\n",
    "    count=iter(range(len(G)))\n",
    "    node_id={}\n",
    "\n",
    "    yield \"graph [\"\n",
    "    if G.is_directed():\n",
    "        yield indent+\"directed 1\"\n",
    "    # write graph attributes \n",
    "    for k,v in G.graph.items():\n",
    "        if k == 'directed':\n",
    "            continue\n",
    "        yield indent+string_item(k,v,indent)\n",
    "    # write nodes\n",
    "    for n in G:\n",
    "        yield indent+\"node [\"\n",
    "        # get id or assign number\n",
    "        #nid=G.node[n].get('id',next(count))\n",
    "        #node_id[n]=nid\n",
    "        nid = n\n",
    "        node_id[n]=n\n",
    "        # 上两行对原代码进行修改，以原始输入的id作为输出图文件的id\n",
    "        yield 2*indent+\"id %s\"%nid\n",
    "        label=G.node[n].get('L', str(nid))\n",
    "#         node_json = G.node[n]['JSON']\n",
    "        if is_string_like(label):\n",
    "            label='\"%s\"'%label\n",
    "        yield 2*indent+'label %s'%label\n",
    "#         yield 2*indent+'json %s'%node_json\n",
    "        if n in G:\n",
    "          for k,v in G.node[n].items():\n",
    "              if k=='id' or k == 'label' or k == 'L' or k == 'JSON': continue\n",
    "              yield 2*indent+string_item(k,v,indent)\n",
    "        yield indent+\"]\"\n",
    "    # write edges\n",
    "    for u,v,edgedata in G.edges(data=True):\n",
    "#         source_color = G.node[u]['graphics']['fill']\n",
    "#         target_color = G.node[v]['graphics']['fill']\n",
    "        yield indent+\"edge [\"\n",
    "        yield 2*indent+\"source %s\"%u\n",
    "        yield 2*indent+\"target %s\"%v\n",
    "#         yield 2*indent+\"value 1.0\"\n",
    "#         # yield 2*indent+\"color \"+ get_edge_color_by_mixe_node_color(source_color, target_color)\n",
    "#         yield 2*indent+\"color #000000\"\n",
    "#         yield 2*indent+\"path \"+edge2path[str(u)+'|'+str(v)]\n",
    "        yield indent+\"]\"\n",
    "    yield \"]\""
   ]
  },
  {
   "cell_type": "code",
   "execution_count": 5,
   "metadata": {
    "ExecuteTime": {
     "end_time": "2022-04-25T12:42:29.361012Z",
     "start_time": "2022-04-25T12:42:29.341186Z"
    }
   },
   "outputs": [],
   "source": [
    "def segmentation_by_louvain():\n",
    "    # 输出，子图GML，社区间连边的json，节点所属的子图类别\n",
    "    if not os.path.exists(f'../temp/{config.DATASET}/subgraphs'): os.makedirs(f'../temp/{config.DATASET}/subgraphs')\n",
    "    G = nx.read_gml(f'../temp/{config.DATASET}/preprocessed_gml/graph.gml')\n",
    "    T1 = time.perf_counter()\n",
    "    partition = community.best_partition(G)\n",
    "    T2 = time.perf_counter()\n",
    "    delta_t = (T2 - T1)*1000\n",
    "    executed_time = {}\n",
    "    executed_time['segmentation'] = delta_t\n",
    "    json.dump(executed_time, open(f'../temp/{config.DATASET}/executed_time.json', 'w'))\n",
    "    node2subgraph = {str(node):partition[node] for node in partition}\n",
    "    # 获取每个社区（子图）对应的节点\n",
    "    community2nodes = {}\n",
    "    for node in partition:\n",
    "        if partition[node] not in community2nodes:\n",
    "            community2nodes[partition[node]] = []\n",
    "        community2nodes[partition[node]].append(node)\n",
    "    # 获取每个社区（子图）内部的连边\n",
    "    community2edges = {}\n",
    "    edges_not_in_same_subgraph_list = []\n",
    "    for source, target in G.edges:\n",
    "        if partition[source] == partition[target]:\n",
    "            if partition[source] not in community2edges:\n",
    "                community2edges[partition[source]] = []\n",
    "            community2edges[partition[source]].append((source, target))\n",
    "        else:\n",
    "            edges_not_in_same_subgraph_list.append([source, target])\n",
    "    for cm in community2nodes:\n",
    "        G_tmp = nx.Graph()\n",
    "        for node in community2nodes[cm]:\n",
    "            G_tmp.add_node(str(node))\n",
    "        for source, target in community2edges[cm]:\n",
    "            G_tmp.add_edge(str(source), str(target))\n",
    "        with open(f'../temp/{config.DATASET}/subgraphs/{cm}.gml', 'w') as fp:\n",
    "            for line in generate_gml(G_tmp):\n",
    "                line+='\\n'\n",
    "                fp.write(line)\n",
    "    json.dump(edges_not_in_same_subgraph_list, open(f'../temp/{config.DATASET}/edges_not_in_same_subgraph_list.json', 'w'))\n",
    "    json.dump(node2subgraph, open(f'../temp/{config.DATASET}/node2subgraph.json', 'w'))"
   ]
  },
  {
   "cell_type": "code",
   "execution_count": 6,
   "metadata": {
    "ExecuteTime": {
     "end_time": "2022-04-25T12:42:30.611557Z",
     "start_time": "2022-04-25T12:42:30.606940Z"
    }
   },
   "outputs": [],
   "source": [
    "def segmentation_by_venue():\n",
    "    pass"
   ]
  },
  {
   "cell_type": "code",
   "execution_count": 15,
   "metadata": {
    "ExecuteTime": {
     "end_time": "2022-04-22T13:50:03.779668Z",
     "start_time": "2022-04-22T13:45:42.760927Z"
    }
   },
   "outputs": [],
   "source": [
    "if __name__ == \"__main__\":\n",
    "    segmentation_by_louvain()"
   ]
  }
 ],
 "metadata": {
  "kernelspec": {
   "display_name": "Python 3 (ipykernel)",
   "language": "python",
   "name": "python3"
  },
  "language_info": {
   "codemirror_mode": {
    "name": "ipython",
    "version": 3
   },
   "file_extension": ".py",
   "mimetype": "text/x-python",
   "name": "python",
   "nbconvert_exporter": "python",
   "pygments_lexer": "ipython3",
   "version": "3.9.7"
  }
 },
 "nbformat": 4,
 "nbformat_minor": 2
}
