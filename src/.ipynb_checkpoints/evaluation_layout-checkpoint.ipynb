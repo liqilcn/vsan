{
 "cells": [
  {
   "cell_type": "markdown",
   "metadata": {},
   "source": [
    "#### 给定一个包含节点坐标的GML，计算Jaccard similarity评估图布局的质量"
   ]
  },
  {
   "cell_type": "markdown",
   "metadata": {},
   "source": [
    "### ref paper：Graph Layouts by t-SNE"
   ]
  },
  {
   "cell_type": "code",
   "execution_count": 8,
   "metadata": {
    "ExecuteTime": {
     "end_time": "2022-04-24T08:42:31.690604Z",
     "start_time": "2022-04-24T08:42:31.679397Z"
    }
   },
   "outputs": [],
   "source": [
    "import os\n",
    "import json\n",
    "import random\n",
    "import config\n",
    "import sys\n",
    "import readgml\n",
    "from tqdm.notebook import tqdm"
   ]
  },
  {
   "cell_type": "code",
   "execution_count": 9,
   "metadata": {
    "ExecuteTime": {
     "end_time": "2022-04-24T08:42:33.294091Z",
     "start_time": "2022-04-24T08:42:33.273730Z"
    }
   },
   "outputs": [],
   "source": [
    "def evaluate_layout_from_json(json_path):\n",
    "    final_layout_json = json.load(open(json_path, 'r'))\n",
    "    node_position = final_layout_json['node_position']\n",
    "    edges = final_layout_json['edges']\n",
    "    all_node_id2position = {}\n",
    "    all_node_ids = []\n",
    "    for node_id in node_position:\n",
    "        all_node_ids.append(str(node_id))\n",
    "        x = float(node_position[node_id][0])\n",
    "        y = float(node_position[node_id][1])\n",
    "        all_node_id2position[node_id] = (x, y)\n",
    "    \n",
    "    node2neigh = {}\n",
    "    for edge in edges:\n",
    "        source, target = edge[0], edge[1]\n",
    "        if str(source) not in node2neigh:\n",
    "            node2neigh[str(source)] = set()\n",
    "        node2neigh[str(source)].add(str(target))\n",
    "        if str(target) not in node2neigh:\n",
    "            node2neigh[str(target)] = set()\n",
    "        node2neigh[str(target)].add(str(source))\n",
    "        \n",
    "    if len(all_node_ids) <= config.EVALUATION_MAX_NODES:\n",
    "        evaluated_nodes = all_node_ids\n",
    "    else:\n",
    "        evaluated_nodes = random.sample(all_node_ids, k=config.EVALUATION_MAX_NODES)\n",
    "    \n",
    "    valid_nodes = 0 # 图论的二阶邻居不为0的节点个数\n",
    "    jaccard_similarity_sum = 0\n",
    "    for node_id in tqdm(evaluated_nodes):\n",
    "        # 获取该节点在图论意义上的所有二阶邻居\n",
    "        neigh2_set = node2neigh[str(node_id)] # 目前是一阶\n",
    "        for n_id in neigh2_set: # 从一阶邻居的邻居中再找一阶\n",
    "            neigh2_set = neigh2_set|node2neigh[str(n_id)]\n",
    "        neigh2_set_len = len(neigh2_set)  # 确定图论二阶邻居集合中节点的个数\n",
    "        if neigh2_set_len == 0:\n",
    "            continue\n",
    "        \n",
    "        x, y = all_node_id2position[node_id]\n",
    "        node_id2dis = {}\n",
    "        for node_id2 in all_node_id2position:\n",
    "            x1, y1 = all_node_id2position[node_id2]\n",
    "            dis = (x1-x)**2+(y1-y)**2  #开不开根号无所谓\n",
    "            node_id2dis[node_id2] = dis\n",
    "        node_id2dis_tuple = sorted(node_id2dis.items(), key = lambda item:item[1])\n",
    "        k_nearest_nodes_set = set([str(node_id2dis_tuple[i][0]) for i in range(neigh2_set_len)])\n",
    "        jaccard_similarity_sum += len(neigh2_set&k_nearest_nodes_set) / len(neigh2_set|k_nearest_nodes_set)\n",
    "        valid_nodes += 1\n",
    "    return jaccard_similarity_sum/valid_nodes"
   ]
  },
  {
   "cell_type": "code",
   "execution_count": 10,
   "metadata": {
    "ExecuteTime": {
     "end_time": "2022-04-24T08:42:35.072264Z",
     "start_time": "2022-04-24T08:42:35.059576Z"
    }
   },
   "outputs": [],
   "source": [
    "def main():\n",
    "    files = os.listdir(f'../temp/{config.DATASET}/final_layout_json_to_evaluation')\n",
    "    method2evaluation = {}\n",
    "    for file in files:\n",
    "        json_path = f'../temp/{config.DATASET}/final_layout_json_to_evaluation/{file}'\n",
    "        perfor = evaluate_layout_from_json(json_path)\n",
    "        method2evaluation[file.split('.')[0]] = perfor\n",
    "    json.dump(method2evaluation, open(f'../temp/{config.DATASET}/evaluation_result.json', 'w'))"
   ]
  },
  {
   "cell_type": "code",
   "execution_count": null,
   "metadata": {
    "ExecuteTime": {
     "start_time": "2022-04-24T08:42:36.603Z"
    }
   },
   "outputs": [
    {
     "data": {
      "application/vnd.jupyter.widget-view+json": {
       "model_id": "29618c7aab4a4600b505c7feb9bd79bd",
       "version_major": 2,
       "version_minor": 0
      },
      "text/plain": [
       "  0%|          | 0/3000 [00:00<?, ?it/s]"
      ]
     },
     "metadata": {},
     "output_type": "display_data"
    }
   ],
   "source": [
    "if __name__ == \"__main__\":\n",
    "    main()"
   ]
  }
 ],
 "metadata": {
  "kernelspec": {
   "display_name": "Python 3 (ipykernel)",
   "language": "python",
   "name": "python3"
  },
  "language_info": {
   "codemirror_mode": {
    "name": "ipython",
    "version": 3
   },
   "file_extension": ".py",
   "mimetype": "text/x-python",
   "name": "python",
   "nbconvert_exporter": "python",
   "pygments_lexer": "ipython3",
   "version": "3.9.7"
  }
 },
 "nbformat": 4,
 "nbformat_minor": 2
}
