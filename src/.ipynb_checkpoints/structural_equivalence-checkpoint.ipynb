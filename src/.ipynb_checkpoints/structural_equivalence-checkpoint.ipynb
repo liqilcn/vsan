{
 "cells": [
  {
   "cell_type": "markdown",
   "metadata": {},
   "source": [
    "### 统计所有边的数量，然后再在计算weight时进行统一的归一化，即不管图的规模如何，都得到统一边权范围的图"
   ]
  },
  {
   "cell_type": "markdown",
   "metadata": {},
   "source": [
    "### 取等效结构的最大联通部分，那些与最大联通部分不连通的子图全部舍弃"
   ]
  },
  {
   "cell_type": "code",
   "execution_count": 7,
   "metadata": {
    "ExecuteTime": {
     "end_time": "2022-04-25T13:01:34.985692Z",
     "start_time": "2022-04-25T13:01:34.960219Z"
    }
   },
   "outputs": [
    {
     "ename": "ImportError",
     "evalue": "cannot import name 'readgml' from 'readgml' (unknown location)",
     "output_type": "error",
     "traceback": [
      "\u001b[0;31m---------------------------------------------------------------------------\u001b[0m",
      "\u001b[0;31mImportError\u001b[0m                               Traceback (most recent call last)",
      "\u001b[0;32m/var/folders/tm/3_kk2dl54c50q_8f1j451r140000gn/T/ipykernel_5408/2097987992.py\u001b[0m in \u001b[0;36m<module>\u001b[0;34m\u001b[0m\n\u001b[1;32m      5\u001b[0m \u001b[0;32mimport\u001b[0m \u001b[0mconfig\u001b[0m\u001b[0;34m\u001b[0m\u001b[0;34m\u001b[0m\u001b[0m\n\u001b[1;32m      6\u001b[0m \u001b[0;32mimport\u001b[0m \u001b[0mnetworkx\u001b[0m \u001b[0;32mas\u001b[0m \u001b[0mnx\u001b[0m\u001b[0;34m\u001b[0m\u001b[0;34m\u001b[0m\u001b[0m\n\u001b[0;32m----> 7\u001b[0;31m \u001b[0;32mfrom\u001b[0m \u001b[0mreadgml\u001b[0m \u001b[0;32mimport\u001b[0m \u001b[0mreadgml\u001b[0m\u001b[0;34m\u001b[0m\u001b[0;34m\u001b[0m\u001b[0m\n\u001b[0m\u001b[1;32m      8\u001b[0m \u001b[0;32mfrom\u001b[0m \u001b[0mnetworkx\u001b[0m\u001b[0;34m.\u001b[0m\u001b[0mutils\u001b[0m \u001b[0;32mimport\u001b[0m \u001b[0mis_string_like\u001b[0m\u001b[0;34m\u001b[0m\u001b[0;34m\u001b[0m\u001b[0m\n",
      "\u001b[0;31mImportError\u001b[0m: cannot import name 'readgml' from 'readgml' (unknown location)"
     ]
    }
   ],
   "source": [
    "import os\n",
    "import time\n",
    "import math\n",
    "import json\n",
    "import config\n",
    "import networkx as nx\n",
    "import sys\n",
    "sys.path.apped\n",
    "from readgml import readgml\n",
    "from networkx.utils import is_string_like"
   ]
  },
  {
   "cell_type": "markdown",
   "metadata": {},
   "source": [
    "### 需要写一个图位置中心化的函数，但不写中心化的函数，在子图布局近似为圆形的情况下影响不大"
   ]
  },
  {
   "cell_type": "code",
   "execution_count": 3,
   "metadata": {
    "ExecuteTime": {
     "end_time": "2022-04-25T13:00:53.408445Z",
     "start_time": "2022-04-25T13:00:53.397282Z"
    }
   },
   "outputs": [],
   "source": [
    "def get_subgraph_inner_degree_and_r(path):\n",
    "    # 获取子图内部连边的度（通过连边统计），以及布局之后的图半径，通过gml文件统计\n",
    "    # 跟精细的处理是对图进行中心化，即通过图的上下左右节点的坐标，求出水平和竖直方向和坐标原点的位移，然后做平移即得到中心化的图\n",
    "    nodes, edges = readgml.read_gml(path)\n",
    "    r_max = 0\n",
    "    for node in nodes:\n",
    "        x = node['x']\n",
    "        y = node['y']\n",
    "        r = math.sqrt(x**2 + y**2)\n",
    "        if r > r_max:\n",
    "            r_max = r\n",
    "    return 2*len(edges), r_max"
   ]
  },
  {
   "cell_type": "code",
   "execution_count": 4,
   "metadata": {
    "ExecuteTime": {
     "end_time": "2022-04-25T13:00:53.638270Z",
     "start_time": "2022-04-25T13:00:53.615529Z"
    }
   },
   "outputs": [],
   "source": [
    "def generate_gml(G):\n",
    "    # gml图生成器直接将networkx源代码进行修改\n",
    "    # recursively make dicts into gml brackets\n",
    "    def listify(d,indent,indentlevel):\n",
    "        result='[ \\n'\n",
    "        for k,v in d.items():\n",
    "            if type(v)==dict:\n",
    "                v=listify(v,indent,indentlevel+1)\n",
    "            result += (indentlevel+1)*indent + \\\n",
    "                string_item(k,v,indentlevel*indent)+'\\n'\n",
    "        return result+indentlevel*indent+\"]\"\n",
    "\n",
    "    def string_item(k,v,indent):\n",
    "        # try to make a string of the data\n",
    "        if type(v)==dict: \n",
    "            v=listify(v,indent,2)\n",
    "        elif is_string_like(v):\n",
    "            v='\"%s\"'%v\n",
    "        elif type(v)==bool:\n",
    "            v=int(v)\n",
    "        return \"%s %s\"%(k,v)\n",
    "\n",
    "    # check for attributes or assign empty dict\n",
    "    if hasattr(G,'graph_attr'):\n",
    "        graph_attr=G.graph_attr\n",
    "    else:\n",
    "        graph_attr={}\n",
    "    if hasattr(G,'node_attr'):\n",
    "        node_attr=G.node_attr\n",
    "    else:\n",
    "        node_attr={}\n",
    "\n",
    "    indent=2*' '\n",
    "    count=iter(range(len(G)))\n",
    "    node_id={}\n",
    "\n",
    "    yield \"graph [\"\n",
    "    if G.is_directed():\n",
    "        yield indent+\"directed 1\"\n",
    "    # write graph attributes \n",
    "    for k,v in G.graph.items():\n",
    "        if k == 'directed':\n",
    "            continue\n",
    "        yield indent+string_item(k,v,indent)\n",
    "    # write nodes\n",
    "    for n in G:\n",
    "        yield indent+\"node [\"\n",
    "        # get id or assign number\n",
    "        #nid=G.node[n].get('id',next(count))\n",
    "        #node_id[n]=nid\n",
    "        nid = n\n",
    "        node_id[n]=n\n",
    "        # 上两行对原代码进行修改，以原始输入的id作为输出图文件的id\n",
    "        yield 2*indent+\"id %s\"%nid\n",
    "        label=G.node[n]['L']\n",
    "        if is_string_like(label):\n",
    "            label='\"%s\"'%label\n",
    "        yield 2*indent+'label %s'%label\n",
    "        if n in G:\n",
    "          for k,v in G.node[n].items():\n",
    "              if k=='id' or k == 'label' or k == 'L': continue\n",
    "              yield 2*indent+string_item(k,v,indent)\n",
    "        yield indent+\"]\"\n",
    "    # write edges\n",
    "    for u,v,edgedata in G.edges(data=True):\n",
    "        source_color = G.node[u]['graphics']['fill']\n",
    "        target_color = G.node[v]['graphics']['fill']\n",
    "        yield indent+\"edge [\"\n",
    "        yield 2*indent+\"source %s\"%u\n",
    "        yield 2*indent+\"target %s\"%v\n",
    "        yield 2*indent+\"weight %s\"%edgedata['weight']\n",
    "        yield indent+\"]\"\n",
    "    yield \"]\""
   ]
  },
  {
   "cell_type": "code",
   "execution_count": 5,
   "metadata": {
    "ExecuteTime": {
     "end_time": "2022-04-25T13:00:53.861463Z",
     "start_time": "2022-04-25T13:00:53.831029Z"
    }
   },
   "outputs": [],
   "source": [
    "def structural_equivalence():\n",
    "    edges_not_in_same_subgraph_list = json.load(open(f'../temp/{config.DATASET}/edges_not_in_same_subgraph_list.json', 'r'))\n",
    "    node2subgraph = json.load(open(f'../temp/{config.DATASET}/node2subgraph.json', 'r'))\n",
    "    subgraph_list = [file.split('.')[0] for file in os.listdir(f'../temp/{config.DATASET}/subgraphs')]\n",
    "    \n",
    "    T1 = time.perf_counter()\n",
    "    edge_num_between_subgraphs = {} # 不同子图之间的连边数\n",
    "    for source, target in edges_not_in_same_subgraph_list:\n",
    "        if f'{node2subgraph[str(source)]}|{node2subgraph[str(target)]}' not in edge_num_between_subgraphs:\n",
    "            edge_num_between_subgraphs[f'{node2subgraph[str(source)]}|{node2subgraph[str(target)]}'] = 0\n",
    "        edge_num_between_subgraphs[f'{node2subgraph[str(source)]}|{node2subgraph[str(target)]}'] += 1\n",
    "    \n",
    "    subgraph2out_degree = {} # 用于后续步骤边权的归一化\n",
    "    for source, target in edges_not_in_same_subgraph_list:\n",
    "        if node2subgraph[str(source)] not in subgraph2out_degree:\n",
    "            subgraph2out_degree[str(node2subgraph[str(source)])] = 0\n",
    "        subgraph2out_degree[str(node2subgraph[str(source)])] += 1\n",
    "    # 获取归一化连边权重    \n",
    "    G = nx.Graph()\n",
    "    for subgraph in subgraph_list:\n",
    "        G.add_node(str(subgraph), graphics = {'w':0,'h':0,'d':0,'fill':''}, L = '')\n",
    "    iii = 0\n",
    "    edge2weight = {} # 存储连边与归一化权重之间的关系\n",
    "    # 做无向图处理\n",
    "    weight_list = [] # 用于第二次归一化，将边的权重归一化到1-20之间，对应不同的图得到统一的\n",
    "    # 连边权重，这样就可以用一个布局参数，后面通过自动缩放图结实现自适应拼接\n",
    "    for i in range(len(subgraph_list)):\n",
    "        iii += 1\n",
    "        for ii in range(len(subgraph_list) - iii):\n",
    "            flag = 0\n",
    "            if subgraph_list[i]+'|'+subgraph_list[ii+iii] in edge_num_between_subgraphs:\n",
    "                weight_1 = edge_num_between_subgraphs[subgraph_list[i]+'|'+subgraph_list[ii+iii]] / subgraph2out_degree[subgraph_list[i]]  \n",
    "                flag += 1\n",
    "            else:\n",
    "                weight_1 = 0\n",
    "            if subgraph_list[ii+iii]+'|'+subgraph_list[i] in edge_num_between_subgraphs:\n",
    "                weight_2 = edge_num_between_subgraphs[subgraph_list[ii+iii]+'|'+subgraph_list[i]] / subgraph2out_degree[subgraph_list[ii+iii]]\n",
    "                flag += 1\n",
    "            else:\n",
    "                weight_2 = 0\n",
    "            if flag > 0:\n",
    "                edge2weight[f'{subgraph_list[i]}|{subgraph_list[ii + iii]}'] = weight_1 + weight_2\n",
    "                weight_list.append(weight_1 + weight_2)\n",
    "    max_weight = max(weight_list)\n",
    "    min_weight = min(weight_list)\n",
    "    # 对权重做线性变换，最大边权为20，最小为1\n",
    "    a = 4/(max_weight-min_weight)\n",
    "    b = 1-a*min_weight\n",
    "    for edge in edge2weight:\n",
    "        G.add_weighted_edges_from([(edge.split('|')[0], edge.split('|')[1], edge2weight[edge]*a+b)])\n",
    "    # 设置等效节点的大小与颜色，并使用简单社区等效复杂社区\n",
    "    subgraph2inner_degree = {}\n",
    "    subgraph2r = {}\n",
    "    # 用于做等比例缩放\n",
    "    inner_degree_list = []\n",
    "    r_list = []\n",
    "    for subgraph in subgraph_list:\n",
    "        inner_degree, r = get_subgraph_inner_degree_and_r(f'../temp/{config.DATASET}/layouted_subgraphs/{subgraph}.gml')\n",
    "        inner_degree_list.append(inner_degree)\n",
    "        r_list.append(r)\n",
    "        subgraph2inner_degree[str(subgraph)] = inner_degree\n",
    "        subgraph2r[str(subgraph)] = r\n",
    "    r_max = max(r_list)\n",
    "    inner_degree_ratio_max = max(inner_degree_list)\n",
    "    r_ratio = 300/r_max\n",
    "    inner_degree_ratio = 20/inner_degree_ratio_max\n",
    "    color_list = [\n",
    "        '#ff6666',\n",
    "        '#0099cc',\n",
    "        '#ffff66',\n",
    "        '#ff9900',\n",
    "        '#99cc33',\n",
    "        '#cc6699',\n",
    "        '#9933ff',\n",
    "        '#33cc33',\n",
    "        '#9966cc',\n",
    "        '#ff33cc',\n",
    "        '#009966'\n",
    "    ]\n",
    "    i = 0\n",
    "    added_nodeID = len(subgraph_list)\n",
    "    for subgraph in subgraph_list:\n",
    "        G.node[subgraph]['graphics']['w'] = r_ratio * subgraph2r[subgraph]\n",
    "        G.node[subgraph]['graphics']['h'] = r_ratio * subgraph2r[subgraph]\n",
    "        G.node[subgraph]['graphics']['d'] = r_ratio * subgraph2r[subgraph]\n",
    "        G.node[subgraph]['graphics']['fill'] = color_list[i%11]\n",
    "        i += 1\n",
    "        for edge in range(int(subgraph2inner_degree[subgraph]*inner_degree_ratio)):\n",
    "            G.add_node(str(added_nodeID),graphics = {'w':2,'h':2,'d':2,'fill':'#666666'}, L = '')\n",
    "            G.add_weighted_edges_from([(subgraph, str(added_nodeID), 200)])\n",
    "            added_nodeID += 1\n",
    "    # 去除不连通分量，大图相应的子图被去掉，子图中相应的节点即被去掉\n",
    "    sub_G_list = nx.connected_component_subgraphs(G)\n",
    "    max_node_num = 0\n",
    "    for sub_G in sub_G_list:\n",
    "        if len(sub_G.nodes) >= max_node_num:\n",
    "            max_node_num = len(sub_G.nodes)\n",
    "            selected_G = sub_G\n",
    "    T2 = time.perf_counter()\n",
    "    delta_t = (T2 - T1)*1000\n",
    "    executed_time = json.load(open(f'../temp/{config.DATASET}/executed_time.json', 'r'))\n",
    "    executed_time['structural_equivalence'] = delta_t\n",
    "    json.dump(executed_time, open(f'../temp/{config.DATASET}/executed_time.json', 'w'))\n",
    "    if not os.path.exists(f'../temp/{config.DATASET}/equivalence_structure_to_layout'):\n",
    "        os.makedirs(f'../temp/{config.DATASET}/equivalence_structure_to_layout')\n",
    "    with open(f'../temp/{config.DATASET}/equivalence_structure_to_layout/equivalence_structure.gml', 'w') as fp:\n",
    "        for line in generate_gml(selected_G):\n",
    "            line+='\\n'\n",
    "            fp.write(line)"
   ]
  },
  {
   "cell_type": "code",
   "execution_count": 6,
   "metadata": {
    "ExecuteTime": {
     "end_time": "2022-04-25T13:00:55.135835Z",
     "start_time": "2022-04-25T13:00:55.095398Z"
    }
   },
   "outputs": [
    {
     "ename": "AttributeError",
     "evalue": "module 'readgml' has no attribute 'read_gml'",
     "output_type": "error",
     "traceback": [
      "\u001b[0;31m---------------------------------------------------------------------------\u001b[0m",
      "\u001b[0;31mAttributeError\u001b[0m                            Traceback (most recent call last)",
      "\u001b[0;32m/var/folders/tm/3_kk2dl54c50q_8f1j451r140000gn/T/ipykernel_5408/2441590854.py\u001b[0m in \u001b[0;36m<module>\u001b[0;34m\u001b[0m\n\u001b[1;32m      1\u001b[0m \u001b[0;32mif\u001b[0m \u001b[0m__name__\u001b[0m \u001b[0;34m==\u001b[0m \u001b[0;34m'__main__'\u001b[0m\u001b[0;34m:\u001b[0m\u001b[0;34m\u001b[0m\u001b[0;34m\u001b[0m\u001b[0m\n\u001b[0;32m----> 2\u001b[0;31m     \u001b[0mstructural_equivalence\u001b[0m\u001b[0;34m(\u001b[0m\u001b[0;34m)\u001b[0m\u001b[0;34m\u001b[0m\u001b[0;34m\u001b[0m\u001b[0m\n\u001b[0m",
      "\u001b[0;32m/var/folders/tm/3_kk2dl54c50q_8f1j451r140000gn/T/ipykernel_5408/4155258243.py\u001b[0m in \u001b[0;36mstructural_equivalence\u001b[0;34m()\u001b[0m\n\u001b[1;32m     56\u001b[0m     \u001b[0mr_list\u001b[0m \u001b[0;34m=\u001b[0m \u001b[0;34m[\u001b[0m\u001b[0;34m]\u001b[0m\u001b[0;34m\u001b[0m\u001b[0;34m\u001b[0m\u001b[0m\n\u001b[1;32m     57\u001b[0m     \u001b[0;32mfor\u001b[0m \u001b[0msubgraph\u001b[0m \u001b[0;32min\u001b[0m \u001b[0msubgraph_list\u001b[0m\u001b[0;34m:\u001b[0m\u001b[0;34m\u001b[0m\u001b[0;34m\u001b[0m\u001b[0m\n\u001b[0;32m---> 58\u001b[0;31m         \u001b[0minner_degree\u001b[0m\u001b[0;34m,\u001b[0m \u001b[0mr\u001b[0m \u001b[0;34m=\u001b[0m \u001b[0mget_subgraph_inner_degree_and_r\u001b[0m\u001b[0;34m(\u001b[0m\u001b[0;34mf'../temp/{config.DATASET}/layouted_subgraphs/{subgraph}.gml'\u001b[0m\u001b[0;34m)\u001b[0m\u001b[0;34m\u001b[0m\u001b[0;34m\u001b[0m\u001b[0m\n\u001b[0m\u001b[1;32m     59\u001b[0m         \u001b[0minner_degree_list\u001b[0m\u001b[0;34m.\u001b[0m\u001b[0mappend\u001b[0m\u001b[0;34m(\u001b[0m\u001b[0minner_degree\u001b[0m\u001b[0;34m)\u001b[0m\u001b[0;34m\u001b[0m\u001b[0;34m\u001b[0m\u001b[0m\n\u001b[1;32m     60\u001b[0m         \u001b[0mr_list\u001b[0m\u001b[0;34m.\u001b[0m\u001b[0mappend\u001b[0m\u001b[0;34m(\u001b[0m\u001b[0mr\u001b[0m\u001b[0;34m)\u001b[0m\u001b[0;34m\u001b[0m\u001b[0;34m\u001b[0m\u001b[0m\n",
      "\u001b[0;32m/var/folders/tm/3_kk2dl54c50q_8f1j451r140000gn/T/ipykernel_5408/1322595698.py\u001b[0m in \u001b[0;36mget_subgraph_inner_degree_and_r\u001b[0;34m(path)\u001b[0m\n\u001b[1;32m      2\u001b[0m     \u001b[0;31m# 获取子图内部连边的度（通过连边统计），以及布局之后的图半径，通过gml文件统计\u001b[0m\u001b[0;34m\u001b[0m\u001b[0;34m\u001b[0m\u001b[0;34m\u001b[0m\u001b[0m\n\u001b[1;32m      3\u001b[0m     \u001b[0;31m# 跟精细的处理是对图进行中心化，即通过图的上下左右节点的坐标，求出水平和竖直方向和坐标原点的位移，然后做平移即得到中心化的图\u001b[0m\u001b[0;34m\u001b[0m\u001b[0;34m\u001b[0m\u001b[0;34m\u001b[0m\u001b[0m\n\u001b[0;32m----> 4\u001b[0;31m     \u001b[0mnodes\u001b[0m\u001b[0;34m,\u001b[0m \u001b[0medges\u001b[0m \u001b[0;34m=\u001b[0m \u001b[0mreadgml\u001b[0m\u001b[0;34m.\u001b[0m\u001b[0mread_gml\u001b[0m\u001b[0;34m(\u001b[0m\u001b[0mpath\u001b[0m\u001b[0;34m)\u001b[0m\u001b[0;34m\u001b[0m\u001b[0;34m\u001b[0m\u001b[0m\n\u001b[0m\u001b[1;32m      5\u001b[0m     \u001b[0mr_max\u001b[0m \u001b[0;34m=\u001b[0m \u001b[0;36m0\u001b[0m\u001b[0;34m\u001b[0m\u001b[0;34m\u001b[0m\u001b[0m\n\u001b[1;32m      6\u001b[0m     \u001b[0;32mfor\u001b[0m \u001b[0mnode\u001b[0m \u001b[0;32min\u001b[0m \u001b[0mnodes\u001b[0m\u001b[0;34m:\u001b[0m\u001b[0;34m\u001b[0m\u001b[0;34m\u001b[0m\u001b[0m\n",
      "\u001b[0;31mAttributeError\u001b[0m: module 'readgml' has no attribute 'read_gml'"
     ]
    }
   ],
   "source": [
    "if __name__ == '__main__':\n",
    "    structural_equivalence()"
   ]
  }
 ],
 "metadata": {
  "kernelspec": {
   "display_name": "Python [conda env:vasn]",
   "language": "python",
   "name": "vasn"
  },
  "language_info": {
   "codemirror_mode": {
    "name": "ipython",
    "version": 3
   },
   "file_extension": ".py",
   "mimetype": "text/x-python",
   "name": "python",
   "nbconvert_exporter": "python",
   "pygments_lexer": "ipython3",
   "version": "3.7.4"
  }
 },
 "nbformat": 4,
 "nbformat_minor": 2
}
