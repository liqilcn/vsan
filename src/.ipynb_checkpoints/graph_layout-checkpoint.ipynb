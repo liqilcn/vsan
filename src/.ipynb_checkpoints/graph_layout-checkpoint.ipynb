{
 "cells": [
  {
   "cell_type": "markdown",
   "metadata": {},
   "source": [
    "### 使用gephi-tool或者pyfa2对子图，等效结构，拼接后的大图进行布局"
   ]
  },
  {
   "cell_type": "code",
   "execution_count": 1,
   "metadata": {
    "ExecuteTime": {
     "end_time": "2022-04-24T07:56:10.129368Z",
     "start_time": "2022-04-24T07:56:10.107098Z"
    }
   },
   "outputs": [],
   "source": [
    "import os\n",
    "import time\n",
    "import json\n",
    "import config"
   ]
  },
  {
   "cell_type": "code",
   "execution_count": 2,
   "metadata": {
    "ExecuteTime": {
     "end_time": "2022-04-24T07:56:12.104682Z",
     "start_time": "2022-04-24T07:56:12.089417Z"
    }
   },
   "outputs": [],
   "source": [
    "def subgraph_layout_by_gephi_tool():\n",
    "    gen_code_cmd = 'python3 ../gephi-tool/scripts/gen_code.py ../gephi-tool/subgraph_layout_config.json'\n",
    "    os.system(gen_code_cmd)\n",
    "    print('Code generation finish!')\n",
    "    if not os.path.exists(f'../temp/{config.DATASET}/layouted_subgraphs'): os.makedirs(f'../temp/{config.DATASET}/layouted_subgraphs')\n",
    "    gephi_tool_abs_path = os.path.abspath('../gephi-tool/scripts/run.py') # 重新配置gephi-tool之后只需更改这一行\n",
    "    source_abs_path = os.path.abspath(f'../temp/{config.DATASET}/subgraphs')\n",
    "    target_abs_path = os.path.abspath(f'../temp/{config.DATASET}/layouted_subgraphs')\n",
    "    layout_cmd = f\"python {gephi_tool_abs_path} {source_abs_path} {target_abs_path} {config.GEPHI_TOOL_PROCESS_NUM}\"\n",
    "    T1 = time.perf_counter()\n",
    "    os.system(layout_cmd)\n",
    "    T2 = time.perf_counter()\n",
    "    delta_t = (T2 - T1)*1000\n",
    "    executed_time = json.load(open(f'../temp/{config.DATASET}/executed_time.json', 'r'))\n",
    "    executed_time['subgraph_layout'] = delta_t\n",
    "    json.dump(executed_time, open(f'../temp/{config.DATASET}/executed_time.json', 'w'))\n",
    "    print('Subgraphs layout finish!')"
   ]
  },
  {
   "cell_type": "code",
   "execution_count": 3,
   "metadata": {
    "ExecuteTime": {
     "end_time": "2022-04-24T07:56:12.324316Z",
     "start_time": "2022-04-24T07:56:12.304034Z"
    }
   },
   "outputs": [],
   "source": [
    "def equivalence_structure_layout_by_gephi_tool():\n",
    "    # 使用gephi对等效好的大图结构进行布局\n",
    "    gen_code_cmd = 'python3 ../gephi-tool/scripts/gen_code.py ../gephi-tool/equivalence_structure_layout_config.json'\n",
    "    os.system(gen_code_cmd)\n",
    "    print('Code generation finish!')\n",
    "    if not os.path.exists(f'../temp/{config.DATASET}/equivalence_structure_layouted'): os.makedirs(f'../temp/{config.DATASET}/equivalence_structure_layouted')\n",
    "    gephi_tool_abs_path = os.path.abspath('../gephi-tool/scripts/run.py') # 重新配置gephi-tool之后只需更改这一行\n",
    "    source_abs_path = os.path.abspath(f'../temp/{config.DATASET}/equivalence_structure_to_layout/equivalence_structure.gml')\n",
    "    target_abs_path = os.path.abspath(f'../temp/{config.DATASET}/equivalence_structure_layouted/equivalence_structure.gml')\n",
    "    layout_cmd = f\"python {gephi_tool_abs_path} {source_abs_path} {target_abs_path}\"\n",
    "    T1 = time.perf_counter()\n",
    "    os.system(layout_cmd)\n",
    "    T2 = time.perf_counter()\n",
    "    delta_t = (T2 - T1)*1000\n",
    "    executed_time = json.load(open(f'../temp/{config.DATASET}/executed_time.json', 'r'))\n",
    "    executed_time['equivalence_structure_layout'] = delta_t\n",
    "    json.dump(executed_time, open(f'../temp/{config.DATASET}/executed_time.json', 'w'))\n",
    "    print('Equivalence Structure layout finish!')"
   ]
  },
  {
   "cell_type": "code",
   "execution_count": 10,
   "metadata": {
    "ExecuteTime": {
     "end_time": "2022-04-24T04:32:47.718581Z",
     "start_time": "2022-04-24T04:26:23.791497Z"
    }
   },
   "outputs": [
    {
     "name": "stdout",
     "output_type": "stream",
     "text": [
      "Code generation finish!\n",
      "Subgraphs layout finish!\n"
     ]
    }
   ],
   "source": [
    "if __name__ == '__main__':\n",
    "    subgraph_layout_by_gephi_tool()"
   ]
  },
  {
   "cell_type": "code",
   "execution_count": 5,
   "metadata": {
    "ExecuteTime": {
     "end_time": "2022-04-24T07:56:24.813979Z",
     "start_time": "2022-04-24T07:56:24.616502Z"
    }
   },
   "outputs": [
    {
     "name": "stdout",
     "output_type": "stream",
     "text": [
      "Code generation finish!\n",
      "multi threads starting\n",
      "java -Dfile.encoding=UTF-8 -cp \"/Users/liqi/Documents/macbook/jupyter_notebook/vsan_test/gephi-tool/src:/Users/liqi/Documents/macbook/jupyter_notebook/vsan_test/gephi-tool/lib/gephi-toolkit-0.9.2-all.jar\" DoLayout /Users/liqi/Documents/macbook/jupyter_notebook/vsan_test/temp/Slashdot0811/equivalence_structure_to_layout/equivalence_structure.gml /Users/liqi/Documents/macbook/jupyter_notebook/vsan_test/temp/Slashdot0811/equivalence_structure_layouted/equivalence_structure.gml\n",
      "/Users/liqi/Documents/macbook/jupyter_notebook/vsan_test/temp/Slashdot0811/equivalence_structure_layouted equivalence_structure.gml\n",
      "java -Dfile.encoding=UTF-8 -cp \"/Users/liqi/Documents/macbook/jupyter_notebook/vsan_test/gephi-tool/src:/Users/liqi/Documents/macbook/jupyter_notebook/vsan_test/gephi-tool/lib/gephi-toolkit-0.9.2-all.jar\" DoLayout /Users/liqi/Documents/macbook/jupyter_notebook/vsan_test/temp/Slashdot0811/equivalence_structure_to_layout/equivalence_structure.gml /Users/liqi/Documents/macbook/jupyter_notebook/vsan_test/temp/Slashdot0811/equivalence_structure_layouted/equivalence_structure.gml\n",
      "Equivalence Structure layout finish!\n"
     ]
    },
    {
     "name": "stderr",
     "output_type": "stream",
     "text": [
      "The operation couldn’t be completed. Unable to locate a Java Runtime.\n",
      "Please visit http://www.java.com for information on installing Java.\n",
      "\n",
      "The operation couldn’t be completed. Unable to locate a Java Runtime.\n",
      "Please visit http://www.java.com for information on installing Java.\n",
      "\n"
     ]
    }
   ],
   "source": [
    "if __name__ == '__main__':\n",
    "    equivalence_structure_layout_by_gephi_tool()"
   ]
  }
 ],
 "metadata": {
  "kernelspec": {
   "display_name": "Python 3 (ipykernel)",
   "language": "python",
   "name": "python3"
  },
  "language_info": {
   "codemirror_mode": {
    "name": "ipython",
    "version": 3
   },
   "file_extension": ".py",
   "mimetype": "text/x-python",
   "name": "python",
   "nbconvert_exporter": "python",
   "pygments_lexer": "ipython3",
   "version": "3.9.7"
  }
 },
 "nbformat": 4,
 "nbformat_minor": 2
}
